{
 "cells": [
  {
   "cell_type": "markdown",
   "metadata": {},
   "source": [
    ">POLITÉCNICO GRANCOLOMBIANO\n",
    ">FACULTAD DE INGENIERIA, DISEÑO E INNOVACIÓN\n",
    "\n",
    "\n",
    "#### **DISEÑO DE CONJUNTO DE INSTRUCCIONES Y MICROARQUITECTURA**\n",
    "\n",
    "#### **ARQUITECTURA DEL COMPUTADOR**\n",
    "\n",
    "#### **Presentado por:**"
   ]
  },
  {
   "cell_type": "markdown",
   "metadata": {},
   "source": [
    "##### Carlos Andrei Villamil Rueda cod: 100284616\n",
    "\n",
    "##### Deyssi Catalina Arango Bermúdez cod: 100271305\n",
    "\n",
    "##### Nelson Alonso Camacho Camacho cod: 100310957\n",
    "\n",
    "##### Kevin Geovanny Camargo Bautista cod: 2011025769\n",
    "\n",
    "##### Luis Felipe Álvarez Ospina cod: 100260436\n"
   ]
  },
  {
   "cell_type": "markdown",
   "metadata": {},
   "source": [
    "\n",
    "#### Tutor: Blanco Ignacio\n"
   ]
  },
  {
   "cell_type": "markdown",
   "metadata": {},
   "source": [
    "<br>"
   ]
  },
  {
   "cell_type": "markdown",
   "metadata": {},
   "source": [
    "\n",
    " *Septiembre de 2022*\n",
    "\n",
    " ___"
   ]
  },
  {
   "cell_type": "markdown",
   "metadata": {},
   "source": [
    "#### CONTENIDO\n",
    "<br>\n"
   ]
  },
  {
   "cell_type": "markdown",
   "metadata": {},
   "source": [
    "\n",
    "##### **1. Objetivos**\n",
    "\n",
    "    1.1 Objetivo General\n",
    "\n",
    "    1.2 Objetivos Específicos\n",
    "    \n",
    "##### **2. Desarrollo**\n",
    "\n",
    "    2.1 Definición\n",
    "\n",
    "    2.2 Código\n",
    "\n"
   ]
  },
  {
   "cell_type": "markdown",
   "metadata": {},
   "source": [
    "<br>\n",
    "<br>"
   ]
  },
  {
   "cell_type": "markdown",
   "metadata": {},
   "source": [
    "#### 1. OBJETIVOS\n",
    "<br>"
   ]
  },
  {
   "cell_type": "markdown",
   "metadata": {},
   "source": [
    "\n",
    "##### **1.1 OBJETIVO GENERAL**\n",
    "\n",
    "Se debe diseñar el conjunto de instrucciones y la microarquitectura de un procesador que permita determinar si un número es primo o no.\n",
    "\n",
    "##### **1.2 OBJETIVOS ESPECÍFICOS**\n",
    "\n",
    "* Crear un pseudocódigo o código en lenguaje de alto nivel que determine si un número es primo o no.\n",
    "\n",
    "* Definir qué instrucciones de bajo nivel son requeridas y diseñar el Conjunto de Instrucciones (ISA). \n",
    "\n",
    "* Definir la estructura de hardware mínima para poder ejecutar todas las instrucciones definidas en el conjunto de instrucciones. \n",
    "\n",
    "* Simular la microarquitectura del hardware."
   ]
  },
  {
   "cell_type": "markdown",
   "metadata": {},
   "source": [
    "<br>\n",
    "<br>"
   ]
  },
  {
   "cell_type": "markdown",
   "metadata": {},
   "source": [
    "# **ENTREGA PREVIA 1 SEMANA 3**\n",
    "#### 2. DESARROLLO\n",
    "<br>\n"
   ]
  },
  {
   "cell_type": "markdown",
   "metadata": {},
   "source": [
    "##### **2.1 DEFINICIÓN**"
   ]
  },
  {
   "cell_type": "markdown",
   "metadata": {},
   "source": [
    "Como sabemos, los números primos son los números naturales mayores que uno que tiene únicamente dos divisores positivos distintos: él mismo y el uno. Para la implementación del código propuesto se utilizó el lenguaje de programación de alto nivel **Python** para validar si un número es primo o no. \n",
    "\n",
    "Para validar si el número ingresado es primo, procedemos a evaluar las siguientes condiciones:\n",
    "\n",
    "\n",
    "* Validar que el número sea mayor a cero.\n",
    "\n",
    "* Validar que el número no sea uno: Debido a que el número uno no se considera primo.\n",
    "\n",
    "* Validar que el número sea dos: Debido a que es el único número par que es primo.\n",
    "\n",
    "* Validar que el número no sea par mayor a dos: Ya que cualquier número par será divisible por el número dos u otro número.\n",
    "\n",
    "* Validar que el número no sea divisible por ningún otro número impar hasta la mitad de este: Debido a que solo los números impares mayores o iguales a 3 pueden ser primos, se procede a verificar si el número ingresado por el usuario es divisible por estos. Esta condición solo se verifica hasta la mitad del número ingresado por el usuario buscando optimizar el procesamiento de estos números.\n"
   ]
  },
  {
   "cell_type": "markdown",
   "metadata": {},
   "source": [
    "##### **2.2 CÓDIGO**\n"
   ]
  },
  {
   "cell_type": "code",
   "execution_count": 5,
   "metadata": {},
   "outputs": [
    {
     "name": "stdout",
     "output_type": "stream",
     "text": [
      "Ingrese un número positivo: 787\n",
      "El número 787 es primo\n"
     ]
    }
   ],
   "source": [
    "#creamos una función para imprimir en pantalla al usuario si el número ingresado no es primo\n",
    "def mostrar_no_es_primo(num_in):\n",
    "    print(f\"El número\", num_in, \"no es primo\")\n",
    "    return\n",
    "\n",
    "#creamos una función para imprimir en pantalla al usuario si el número ingresado es primo\n",
    "def mostrar_es_primo(num_in):\n",
    "    print(f\"El número\", num_in, \"es primo\")\n",
    "    return\n",
    "\n",
    "\"\"\"con esta función podemos validar mediante las condiciones dadas en la definición del \n",
    "algoritmo si el número es primo o no\"\"\"\n",
    "def validar_primo():\n",
    "    #definimos una variable para guardar el número ingresado al sistema\n",
    "    num_in = int(input(\"Ingrese un número positivo: \"))\n",
    "    #validamos que el número sea mayor a cero.\n",
    "    if num_in == 0:\n",
    "        mostrar_no_es_primo(num_in)\n",
    "        return\n",
    "    #validamos que el número no sea uno: Debido a que el número uno no se considera primo.\n",
    "    if num_in == 1:\n",
    "        mostrar_no_es_primo(num_in)\n",
    "        return\n",
    "    #validamos que el número sea dos: Debido a que es el único número par que es primo.\n",
    "    if num_in == 2:\n",
    "        mostrar_es_primo(num_in)\n",
    "        return\n",
    "    \"\"\"Validar que el número no sea par mayor a dos: \n",
    "    Ya que cualquier número par será divisible por el número dos u otro número.\n",
    "    esto lo verificamos con el operador mod % \"\"\"\n",
    "    if num_in % 2 == 0:\n",
    "        mostrar_no_es_primo(num_in)\n",
    "        return\n",
    "        #validamos que el número no sea divisible por ningún otro número impar hasta la mitad de este\n",
    "    mitad = int(num_in/2)\n",
    "    for i in range(3, mitad):\n",
    "        if num_in % i == 0:\n",
    "            #si hay número divisor, mostramos cual es en pantalla\n",
    "            print(f\"El número divisor es:\", i)\n",
    "            mostrar_no_es_primo(num_in)\n",
    "            return\n",
    "    mostrar_es_primo(num_in)\n",
    "    return\n",
    "\n",
    "#hacemos el llamado de la función\n",
    "if __name__ == '__main__':\n",
    "    validar_primo()"
   ]
  },
  {
   "cell_type": "markdown",
   "metadata": {},
   "source": [
    "*Ejemplos con evaluación de otros números para probar el algoritmo:*"
   ]
  },
  {
   "cell_type": "markdown",
   "metadata": {},
   "source": [
    "![prueba de escritorio 1](./prueba1.jpeg \"prueba 1\")"
   ]
  },
  {
   "cell_type": "markdown",
   "metadata": {},
   "source": [
    "![prueba de escritorio 2](./prueba2.jpeg \"prueba 2\")"
   ]
  },
  {
   "cell_type": "markdown",
   "metadata": {},
   "source": [
    "![prueba de escritorio 3](./prueba3.jpeg \"prueba 3\")"
   ]
  },
  {
   "cell_type": "markdown",
   "metadata": {},
   "source": [
    "<hr>\n",
    "<hr>"
   ]
  },
  {
   "cell_type": "markdown",
   "metadata": {},
   "source": [
    "# **ENTREGA PREVIA 2 SEMANA 5**\n",
    "\n",
    "1. Listado de instrucciones detallando por cada una:\n",
    "    a. Nombre, mnemónico, parámetros que recibe.\n",
    "    b. Descripción de una frase indicando qué hace en términos de lo que recibe como parámetro.\n",
    "    c. Ejemplo\n",
    "2. Definición de la cantidad de registros que se usarán y el tamaño de cada registro.\n",
    "3. Descripción breve de los modos de direccionamiento que serán posibles.\n",
    "4. Traducción del programa de alto nivel (entrega 1) al lenguaje ensamblador que han construido, usando su propio conjunto de instrucciones.\n",
    "5. Listado en HEXA del binario que representa el programa realizado en el punto 4 de esta entrega.\n",
    "6. ALU en Logisim, que pueda ejecutar las instrucciones requeridas por el programa. \n",
    "\n",
    "\n",
    "#### **1. Listado de instrucciones**\n",
    "\n",
    "\n",
    "\n",
    "| Cod Ope. | Instrucción | Operandos                   | Comportamiento              | Significado                                          | Ejemplo                        |\n",
    "| -------- | ----------- | --------------------------- | --------------------------- | ---------------------------------------------------- | ------------------------------ |\n",
    "| 2        | XOR         | REGDest,REGSource/Inmediato | REGDest <- REGDest ^ REGOri | Operación XOR entre un registro y el acumulador      | xor   ax,bx  Equivale a i=i^j  |\n",
    "| 3        | ADD         | REGDest,REGSource/Inmediato | REGDest <- REGDest + REGOri | Operación SUMA entre un registro y el acumulador     | add   ax,bx  Equivale a i=i+j  |\n",
    "| 4        | SUB         | REGDest,REGSource/Inmediato | REGDest <- REGDest - REGOri | Operación RESTA entre un registro y el acumulador    | sub   ax,bx  Equivale a i=i-j  |\n",
    "| 5        | DIV         | REGDest,REGSource/Inmediato | REGDest <- REGDest / REGOri | Operación DIVISIÓN entre un registro y el acumulador | div   ax,bx  Equivale a i=i/j  |\n",
    "| 6        | MOD         | REGDest,REGSource/Inmediato | REGDest <- REGDest % REGOri | Operación MODULO entre un registro y el acumulador   | mod   ax,bx  Equivale a i=i%j  |\n",
    "| 7        | MOV         | REGDest,REGSource           | REGDest <- REGSource        | Mueve un registro al acumulador                      | mov   ax,bx  #i=j              |\n",
    "| 8        | MOV         | REGDest,Immediato           | REGDest <- Inmediato        | Mueve un inmediato al acumulador                     | mov   ax,1  #i=1               |\n",
    "| 9        | LOAD        | REGDest,REGSource           | REGDest <- MEM\\[REGSource\\] | Transfiere de la Memoria al acumulador.              | load  bx,cx  #j=mem\\[0\\]       |\n",
    "| 10       | STORE       | REGDest,REGSource           | MEM\\[REGDest\\] <- REGSource | Transfiere de al acumulador a la memoria.            | store cx,ax  #mem\\[0\\] = i     |\n",
    "| 11       | JMPZ        | REGDest,Label               |                             | Salta si es 0                                        |                                |\n",
    "| 12       | JMPN        | REGDest,Label               |                             | Salta si es negativo                                 |                                |\n",
    "| 13       | JMPP        | REGDest,Label               |                             | Salta si es positivo                                 |                                |\n",
    "| 14       | HALT        |                             |                             |                                                      |                                |\n",
    "\n",
    "\n",
    "\n",
    "\n",
    "\n",
    "\n",
    "\n"
   ]
  },
  {
   "cell_type": "markdown",
   "metadata": {},
   "source": [
    "#### **2. Definición de registros**\n",
    "\n",
    "|Registros|Nombre|Descripción |Tamaño| |\n",
    "|:---:|:---:|:---:|:---:|:---:|\n",
    "| | | |H|L|\n",
    "|de propósito general|AX|Acumulador|4C|24|\n",
    "| |BC|Base|0|2|\n",
    "| |CX|Contador|0|0|\n",
    "| |DX|Datos|0|1|\n",
    "|Apuntadores y de Índices|IP|Apuntador de instrucciones|204| |\n",
    "| |SP|Apuntador de pila|00FA| |\n",
    "| |BP|Apuntador de base|0| |\n",
    "| |SI|Índice fuente|2| |\n",
    "| |DI|Índice destino|0| |\n",
    "|De Segmentos|DS|Datos|720| |\n",
    "| |ES|Extra|700| |\n",
    "| |CS|Código|F400| |\n",
    "| |SS|Pila|710| |\n"
   ]
  },
  {
   "cell_type": "markdown",
   "metadata": {},
   "source": [
    "#### **3. Descripción modos de direccionamiento**\n",
    "\n",
    "Modo de direccionamiento inmediato: Será utilizado ya que, en una de las instrucciones, el operando formará parte de esta última.\n",
    "\n",
    "Direccionamiento por registro: También consideramos que será utilizado ya que, en un punto del código, el operando será guardado en un registro.\n",
    "\n",
    "Direccionamiento indexado: Ya que la dirección del operando se calcula sumando el campo desplazamiento.\n"
   ]
  },
  {
   "cell_type": "markdown",
   "metadata": {},
   "source": [
    "#### **4. Traducción al lenguaje ensamblador**"
   ]
  },
  {
   "cell_type": "code",
   "execution_count": null,
   "metadata": {},
   "outputs": [],
   "source": [
    " .data\n",
    "NotPrimo: \n",
    ".asciiz \"No es numero Primo\"\n",
    "Primo: \n",
    ".asciiz \"Si es numero Primo\"\n",
    "\n",
    ".text\n",
    "#Declaramos e intanciamos la variable con el numero a comprobar\n",
    "addi $s0,$0,8\n",
    "\n",
    "Validar_primo:\n",
    "#Comprobamos si el numero es menor a 2\n",
    "slti $t0,$s0,2\n",
    "bne $t0,$0,False\n",
    "#Comprobamos si el numero es igual a 2\n",
    "beq $s0,2,True\n",
    "#Comprobamos si el numero es multiplo de 2\n",
    "addi $t0,$0,2\n",
    "div $s0,$t0\n",
    "mfhi $t1\n",
    "beq $t1,0,False\n",
    "#Declaramos e instanciamos la variable para guardar la mitad entera del numero\n",
    "addi $s1,$0,0\n",
    "#Sacamos la mitad entera del numero y la guardamos en el registro $s1\n",
    "div $s0,$t0\n",
    "mflo $s1\n",
    "#declaramos e instanciamos la variable t2 como i, para el contador\n",
    "addi $t2,$0,3\n",
    "j CicloFor\n",
    "\n",
    "#Ciclo for para determinar si es o no primo\n",
    "CicloFor:\n",
    "ble $t2,$s1,CondicionalIf\n",
    "j True\n",
    "\n",
    "#usamos el flujo de control if para comparar el modulo de la division entre los valores de i\n",
    "CondicionalIf:\n",
    "div $s0,$t2\n",
    "mfhi $t1\n",
    "beq $t1,0,False\n",
    "addi $t2,$t2,1\n",
    "j CicloFor\n",
    "\n",
    "#Segmento para mostrar que SI es un numero primo\n",
    "True:\n",
    "li $v0,4\n",
    "la $a0, Primo\n",
    "syscall\n",
    "j Fin\n",
    "\n",
    "#Segmento para mostrar que no es un numero primo\n",
    "False:\n",
    "li $v0,4\n",
    "la $a0,NotPrimo\n",
    "syscall\n",
    "j Fin\n",
    "\n",
    "#Fin del programa\n",
    "Fin:"
   ]
  },
  {
   "cell_type": "markdown",
   "metadata": {},
   "source": [
    "#### **5. Listado en HEXA del binario**\n",
    "|#|Instrucción en binario|HEX|\n",
    "|:---:|:---:|:---:|\n",
    "|1|00100000000100000000000000001000|20100008|\n",
    "|2|00101010000010000000000000000010|2a080002|\n",
    "|3|00010101000000000000000000011010|1500001a|\n",
    "|4|00100000000000010000000000000010|20010002|\n",
    "|5|00010000001100000000000000010011|10300013|\n",
    "|6|00100000000010000000000000000010|20080002|\n",
    "|7|00000010000010000000000000011010|0208001a|\n",
    "|8|00000000000000000100100000010000|00004810|\n",
    "|9|00100000000000010000000000000000|20010000|\n",
    "|10|00010000001010010000000000010011|10290013|\n",
    "|11|00100000000100010000000000000000|20110000|\n",
    "|12|00000010000010000000000000011010|0208001a|\n",
    "|13|00000000000000001000100000010010|00008812|\n",
    "|14|00100000000010100000000000000011|200a0003|\n",
    "|15|00001000000100000000000000001111|0810000f|\n",
    "|16|00000010001010100000100000101010|022a082a|\n",
    "|17|00010000001000000000000000000001|10200001|\n",
    "|18|00001000000100000000000000011000|08100018|\n",
    "|19|00000010000010100000000000011010|020a001a|\n",
    "|20|00000000000000000100100000010000|00004810|\n",
    "|21|00100000000000010000000000000000|20010000|\n",
    "|22|00010000001010010000000000000111|10290007|\n",
    "|23|00100001010010100000000000000001|214a0001|\n",
    "|24|00001000000100000000000000001111|0810000f|\n",
    "|25|00100100000000100000000000000100|24020004|\n",
    "|26|00111100000000010001000000000001|3c011001|\n",
    "|27|00110100001001000000000000010011|34240013|\n",
    "|28|00000000000000000000000000001100|0000000c|\n",
    "|29|00001000000100000000000000100010|08100022|\n",
    "|30|00100100000000100000000000000100|24020004|\n",
    "|31|00111100000000010001000000000001|3c011001|\n",
    "|32|00110100001001000000000000000000|34240000|\n",
    "|33|00000000000000000000000000001100|0000000c|\n",
    "|34|00001000000100000000000000100010|08100022|\n"
   ]
  },
  {
   "cell_type": "markdown",
   "metadata": {},
   "source": [
    "#### **6. ALU en Logisim**\n",
    "\n",
    "###### **ALU interna** \n",
    "<center>\n",
    "<img src=\"alu.png\" width=\"500\" alt=\"alu\" />\n",
    "</center>\n",
    "\n",
    "###### **ALU** \n",
    "<center>\n",
    "<img src=\"alucp.png\" width=\"500\" alt=\"alu\" />\n",
    "</center>\n",
    "\n",
    "###### **Operación Suma** \n",
    "<center>\n",
    "<img src=\"suma.png\" width=\"500\" alt=\"alu\" />\n",
    "</center>\n",
    "\n",
    "###### **Operación Resta** \n",
    "<center>\n",
    "<img src=\"resta.png\" width=\"500\" alt=\"alu\" />\n",
    "</center>\n",
    "\n",
    "###### **Operación Multiplicación** \n",
    "<center>\n",
    "<img src=\"multpng.png\" width=\"500\" alt=\"alu\" />\n",
    "</center>\n",
    "\n",
    "###### **Operación División** \n",
    "<center>\n",
    "<img src=\"div.png\" width=\"500\" alt=\"alu\" />\n",
    "</center>\n",
    "\n",
    "###### **Operación Módulo** \n",
    "<center>\n",
    "<img src=\"mod.png\" width=\"500\" alt=\"alu\" />\n",
    "</center>\n",
    "\n",
    "###### **Vista interna de ALU e operación Suma** \n",
    "<center>\n",
    "<img src=\"alufnin.png\" width=\"500\" alt=\"alu\" />\n",
    "</center>"
   ]
  },
  {
   "cell_type": "markdown",
   "metadata": {},
   "source": [
    "<hr>\n",
    "<hr>"
   ]
  },
  {
   "cell_type": "markdown",
   "metadata": {},
   "source": [
    "# **ENTREGA FINAL SEMANA 7**\n",
    "\n",
    "1. Archivo .circ, realizado sobre Logisim, que incluye: Memoria de Programa, ALU, Registros, Unidad de Control, interconectados de tal forma que sea capaces de ejecutar el programa diseñado.\n",
    "2. Documento de diseño, reuniendo las entregas 1 y 2, así como la documentación del diseño de la microarquitectura (Memoria de Programa, ALU, Registros, Unidad de Control).\n",
    "3. Documento de conclusiones, donde se presenten los ejemplos probados, los resultados obtenidos y las conclusiones críticas del proyecto desarrollado.\n",
    " "
   ]
  },
  {
   "cell_type": "markdown",
   "metadata": {},
   "source": [
    "#### **1. Archivo .circ, realizado sobre Logisim**\n",
    "\n",
    "Se anexa archivo alu_8.circ en la entrega solicitada para ejecuatar en logisim \n",
    "\n"
   ]
  },
  {
   "cell_type": "markdown",
   "metadata": {},
   "source": [
    "#### **2. Documentación del diseño de la microarquitectura (Memoria de Programa, ALU, Registros, Unidad de Control).**\n",
    "\n",
    "###### **Diseño de la microarquitectura ** \n",
    "<center>\n",
    "<img src=\"desing.png\" width=\"500\" alt=\"alu\" />\n",
    "</center>"
   ]
  },
  {
   "cell_type": "markdown",
   "metadata": {},
   "source": [
    "#### **3. Conclusiones.**\n",
    "\n",
    "\n",
    "\n",
    "###### **Ejemplo probado para número primo ** \n",
    "<center>\n",
    "<img src=\"primo.jpeg\" width=\"500\" alt=\"alu\" />\n",
    "</center>\n",
    "\n",
    "###### **Ejemplo probado para número No primo ** \n",
    "<center>\n",
    "<img src=\"noPrimo.jpeg\" width=\"500\" alt=\"alu\" />\n",
    "</center>\n",
    "\n",
    "\n",
    "Una vez realizado los ejemplos probados anteriores y analizados los resultados obtenidos, se hace entendible las diferentes funcionalidades que posee la ALU o unidad aritmética lógica en lo referente al procesador como tal, realizando todas las instrucciones de la problematica planteada inicialmente de la comprobación del número primo, haciendo uso de las distintas puertas lógicas y circuitos combinacionales para los respectivos cálculos, de esta manera se concluye también que el ALU es una parte esencial del procesador ya que efectúa las distintas operaciones matemáticas básicas y su interacción a otros niveles por medio del lenguaje ensamblador a otros lenguajes de mas alto nivel.\n",
    "\n",
    "\n",
    "\n",
    "Durante el tiempo de la realización del proyecto mencionado, desde la problemática planteada en un comienzo sobre el diseño del conjunto de instrucciones y la microarquitectura de un procesador que permita detectar si un número es primo o no, se ha podido lograr un mayor entendimiento sobre como los sistemas informáticos manipulan los bits para lograr obtener la lógica deseada, con la importancia de la arquitectura correcta también se ha logrado comprobar lo útil en lo referente al uso de los recursos con el fin de hacer las operaciones lo más eficientemente posibles, teniendo en cuenta que al tratarse de circuitos que consumen energía, y con esto en mente, es sido de suma importancia el entendimiento de estos conceptos además de la puesta en práctica de tan relevantes procesos para la ingeniería de software, viendo a su vez los conceptos que han permitido la evolución de los sistemas computacionales hasta nuestros días, siendo muy relevantes en nuestras actividades del diario vivir, una vez realizado el proyecto se ha logrado un conocimiento mas profundo sobre el procesamiento interno de la información ingresada a un computador y por otra parte la utilidad de los componentes internos dentro del procesador que permiten realizar las instrucciones necesarias y convertir entradas eléctricas en datos importantes que puedan ser analizados y utilizados en procesos más complejos."
   ]
  }
 ],
 "metadata": {
  "kernelspec": {
   "display_name": "Python 3.8.9 64-bit",
   "language": "python",
   "name": "python3"
  },
  "language_info": {
   "codemirror_mode": {
    "name": "ipython",
    "version": 3
   },
   "file_extension": ".py",
   "mimetype": "text/x-python",
   "name": "python",
   "nbconvert_exporter": "python",
   "pygments_lexer": "ipython3",
   "version": "3.8.9"
  },
  "vscode": {
   "interpreter": {
    "hash": "31f2aee4e71d21fbe5cf8b01ff0e069b9275f58929596ceb00d14d90e3e16cd6"
   }
  }
 },
 "nbformat": 4,
 "nbformat_minor": 4
}
